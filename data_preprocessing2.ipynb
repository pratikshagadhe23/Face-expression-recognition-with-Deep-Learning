{
 "cells": [
  {
   "cell_type": "code",
   "execution_count": null,
   "metadata": {},
   "outputs": [],
   "source": [
    "from keras.preprocessing.image import load_img, img_to_array\n",
    "import matplotlib.pyplot as plt\n",
    "import os\n",
    "import numpy as np\n",
    "from sklearn.model_selection import train_test_split  # Import train_test_split function\n",
    "\n",
    "# Size of the image: 48x48 pixels\n",
    "pic_size = 48\n",
    "\n",
    "# Input path for the images\n",
    "base_path = \"/Users/pratiksha/Documents/Pratiksha/Documents/GitHub/GitHub/Face-expression-recognition-with-Deep-Learning/images/\"\n",
    "\n",
    "plt.figure(0, figsize=(12,20))\n",
    "cpt = 0\n",
    "\n",
    "# Function to preprocess images\n",
    "def preprocess_image(img_path):\n",
    "    img = load_img(img_path, color_mode=\"grayscale\", target_size=(pic_size, pic_size))\n",
    "    img_array = img_to_array(img)\n",
    "    img_array /= 255.0\n",
    "    return img_array\n",
    "\n",
    "# Lists to store preprocessed images and their labels\n",
    "images = []\n",
    "labels = []\n",
    "\n",
    "# Iterate through each expression folder in the train directory\n",
    "for expression in os.listdir(os.path.join(base_path, \"train\")):\n",
    "    if not os.path.isdir(os.path.join(base_path, \"train\", expression)):\n",
    "        continue\n",
    "    \n",
    "    # Load all images in the current expression folder\n",
    "    expression_path = os.path.join(base_path, \"train\", expression)\n",
    "    image_files = os.listdir(expression_path)\n",
    "    for img_name in image_files:\n",
    "        img_path = os.path.join(expression_path, img_name)\n",
    "        img_array = preprocess_image(img_path)\n",
    "        \n",
    "        images.append(img_array)\n",
    "        labels.append(expression)\n",
    "        \n",
    "        cpt += 1\n",
    "        if cpt <= 35:  # Display only first 35 images for visualization\n",
    "            plt.subplot(7, 5, cpt)\n",
    "            plt.imshow(img_array.reshape(pic_size, pic_size), cmap=\"gray\")\n",
    "            plt.xlabel(expression)\n",
    "\n",
    "plt.tight_layout()\n",
    "plt.show()\n",
    "\n"
   ]
  },
  {
   "cell_type": "code",
   "execution_count": 77,
   "metadata": {},
   "outputs": [
    {
     "name": "stdout",
     "output_type": "stream",
     "text": [
      "7164 happy images\n",
      "4938 sad images\n",
      "4103 fear images\n",
      "3205 surprise images\n",
      "4982 neutral images\n",
      "3993 angry images\n",
      "436 disgust images\n",
      "Train images shape: (28821, 48, 48, 1)\n",
      "Train labels shape: (28821,)\n"
     ]
    }
   ],
   "source": [
    "# Count number of train images for each expression\n",
    "for expression in os.listdir(base_path + \"train\"):\n",
    "    expression_path = os.path.join(base_path, \"train\", expression)\n",
    "    if os.path.isdir(expression_path):\n",
    "        print(f\"{len(os.listdir(expression_path))} {expression} images\")\n",
    "\n",
    "# Convert lists to numpy arrays\n",
    "images = np.array(images)\n",
    "labels = np.array(labels)\n",
    "\n",
    "# Print shapes\n",
    "print(\"Train images shape:\", images.shape)\n",
    "print(\"Train labels shape:\", labels.shape)\n"
   ]
  },
  {
   "cell_type": "code",
   "execution_count": null,
   "metadata": {},
   "outputs": [],
   "source": []
  },
  {
   "cell_type": "code",
   "execution_count": null,
   "metadata": {},
   "outputs": [],
   "source": []
  },
  {
   "cell_type": "code",
   "execution_count": null,
   "metadata": {},
   "outputs": [],
   "source": []
  },
  {
   "cell_type": "code",
   "execution_count": null,
   "metadata": {},
   "outputs": [],
   "source": []
  },
  {
   "cell_type": "code",
   "execution_count": null,
   "metadata": {},
   "outputs": [],
   "source": []
  },
  {
   "cell_type": "code",
   "execution_count": 79,
   "metadata": {},
   "outputs": [
    {
     "data": {
      "text/plain": [
       "<Figure size 1200x2000 with 0 Axes>"
      ]
     },
     "metadata": {},
     "output_type": "display_data"
    },
    {
     "name": "stdout",
     "output_type": "stream",
     "text": [
      "7164 happy images\n",
      "4938 sad images\n",
      "4103 fear images\n",
      "3205 surprise images\n",
      "4982 neutral images\n",
      "3993 angry images\n",
      "436 disgust images\n",
      "Train images shape: (28821, 48, 48, 3)\n",
      "Train labels shape: (28821,)\n"
     ]
    }
   ],
   "source": [
    "from keras.preprocessing.image import load_img, img_to_array\n",
    "import matplotlib.pyplot as plt\n",
    "import os\n",
    "import numpy as np\n",
    "from sklearn.model_selection import train_test_split  # Import train_test_split function\n",
    "\n",
    "# Size of the image: 48x48 pixels\n",
    "pic_size = 48\n",
    "\n",
    "# Input path for the images\n",
    "base_path = \"/Users/pratiksha/Documents/Pratiksha/Documents/GitHub/GitHub/Face-expression-recognition-with-Deep-Learning/images/\"\n",
    "\n",
    "plt.figure(0, figsize=(12,20))\n",
    "cpt = 0\n",
    "\n",
    "# Function to preprocess images\n",
    "def preprocess_image(img_path):\n",
    "    img = load_img(img_path, target_size=(pic_size, pic_size))\n",
    "    img_array = img_to_array(img)\n",
    "    img_array /= 255.0\n",
    "    return img_array\n",
    "\n",
    "# Lists to store preprocessed images and their labels\n",
    "images = []\n",
    "labels = []\n",
    "\n",
    "# Iterate through each expression folder in the train directory\n",
    "for expression in os.listdir(os.path.join(base_path, \"train\")):\n",
    "    if not os.path.isdir(os.path.join(base_path, \"train\", expression)):\n",
    "        continue\n",
    "    \n",
    "    # Load all images in the current expression folder\n",
    "    expression_path = os.path.join(base_path, \"train\", expression)\n",
    "    image_files = os.listdir(expression_path)\n",
    "    for img_name in image_files:\n",
    "        img_path = os.path.join(expression_path, img_name)\n",
    "        img_array = preprocess_image(img_path)\n",
    "        \n",
    "        images.append(img_array)\n",
    "        labels.append(expression)\n",
    "        \n",
    "\n",
    "plt.tight_layout()\n",
    "plt.show()\n",
    "\n",
    "# Count number of train images for each expression\n",
    "for expression in os.listdir(base_path + \"train\"):\n",
    "    expression_path = os.path.join(base_path, \"train\", expression)\n",
    "    if os.path.isdir(expression_path):\n",
    "        print(f\"{len(os.listdir(expression_path))} {expression} images\")\n",
    "\n",
    "# Convert lists to numpy arrays\n",
    "images = np.array(images)\n",
    "labels = np.array(labels)\n",
    "\n",
    "# Print shapes\n",
    "print(\"Train images shape:\", images.shape)\n",
    "print(\"Train labels shape:\", labels.shape)\n"
   ]
  }
 ],
 "metadata": {
  "kernelspec": {
   "display_name": "Python 3",
   "language": "python",
   "name": "python3"
  },
  "language_info": {
   "codemirror_mode": {
    "name": "ipython",
    "version": 3
   },
   "file_extension": ".py",
   "mimetype": "text/x-python",
   "name": "python",
   "nbconvert_exporter": "python",
   "pygments_lexer": "ipython3",
   "version": "3.9.19"
  }
 },
 "nbformat": 4,
 "nbformat_minor": 2
}
