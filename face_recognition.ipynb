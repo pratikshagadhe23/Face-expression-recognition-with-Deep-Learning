{
 "cells": [
  {
   "cell_type": "markdown",
   "metadata": {},
   "source": [
    "# Imports: These lines import necessary libraries:\n",
    "* numpy : numerical operations.\n",
    "* seaborn : statistical data visualization.\n",
    "* load_img & img_to_array from keras.preprocessing.image : loading and processing images.\n",
    "* matplotlib.pyplot as plt : plotting images.\n",
    "* os : interacting with the operating system to handle file paths.\n"
   ]
  },
  {
   "cell_type": "code",
   "execution_count": 9,
   "metadata": {},
   "outputs": [],
   "source": [
    "# display some images for every different expression\n",
    "import numpy as np\n",
    "import seaborn as sns\n",
    "from keras.preprocessing.image import load_img, img_to_array\n",
    "import matplotlib.pyplot as plt\n",
    "import os"
   ]
  },
  {
   "cell_type": "code",
   "execution_count": null,
   "metadata": {},
   "outputs": [],
   "source": [
    "# size of the image: 48*48 pixels\n",
    "pic_size = 48                            #Specifies the size of each image (48x48 pixels in this case)\n",
    "\n",
    "# input path for the images\n",
    "base_path = \"/Users/pratiksha/Downloads/Face_expression/images/\"\n",
    "\n",
    "plt.figure(0, figsize=(12,20)) # Specifies the size of the plot\n",
    "cpt = 0                        # Used to count the number of images displayed -- Counter variable\n",
    "\n",
    "\n",
    "for expression in os.listdir(base_path + \"train/\"):                    # Iterates through each expression folder (angry, disgust, etc.) within the train directory.\n",
    "    expression_path = os.path.join(base_path, \"train\", expression)\n",
    "    if not os.path.isdir(expression_path):\n",
    "        continue  # Skip if it's not a directory\n",
    "\n",
    "    for i, img_file in enumerate(os.listdir(expression_path)[:5]):     # Loops through the first 5 images (i ranges from 1 to 5) within each expression folder.\n",
    "        cpt = cpt + 1                                                  # Increments the counter variable\n",
    "        plt.subplot(7, 5, cpt)                                         # Creates a subplot grid with 7 rows and 5 columns, placing the current image in position cpt.\n",
    "        img_path = os.path.join(expression_path, img_file)\n",
    "        img = load_img(img_path, target_size=(pic_size, pic_size))\n",
    "        plt.imshow(img, cmap=\"gray\")                                   # Displays the image with a grayscale colormap.\n",
    "\n",
    "plt.tight_layout()  \n",
    "\n",
    "                                            "
   ]
  },
  {
   "cell_type": "markdown",
   "metadata": {},
   "source": [
    "- Identifying facial expressions from images is challenging for algorithms due to factors like :\n",
    "* low resolution\n",
    "* varying face positions\n",
    "* text overlays, and occlusions (like hands covering parts of faces). \n",
    "- These complexities, while making the task harder for machines, contribute to building more adaptable models capable of handling real-world diversity."
   ]
  },
  {
   "cell_type": "code",
   "execution_count": null,
   "metadata": {},
   "outputs": [],
   "source": []
  },
  {
   "cell_type": "code",
   "execution_count": null,
   "metadata": {},
   "outputs": [],
   "source": []
  }
 ],
 "metadata": {
  "kernelspec": {
   "display_name": "Python 3",
   "language": "python",
   "name": "python3"
  },
  "language_info": {
   "codemirror_mode": {
    "name": "ipython",
    "version": 3
   },
   "file_extension": ".py",
   "mimetype": "text/x-python",
   "name": "python",
   "nbconvert_exporter": "python",
   "pygments_lexer": "ipython3",
   "version": "3.9.19"
  }
 },
 "nbformat": 4,
 "nbformat_minor": 2
}
